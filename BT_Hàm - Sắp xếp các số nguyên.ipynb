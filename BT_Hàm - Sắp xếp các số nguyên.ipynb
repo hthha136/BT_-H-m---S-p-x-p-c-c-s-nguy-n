{
 "cells": [
  {
   "cell_type": "markdown",
   "id": "1699ed5b",
   "metadata": {},
   "source": [
    "Viết chương trình cho người dùng nhập vào 3 số nguyên bất kỳ, sau đó sẽ in ra thứ tự tăng dần của 3 số nguyên được nhập vào."
   ]
  },
  {
   "cell_type": "code",
   "execution_count": 23,
   "id": "ff0e09b5",
   "metadata": {},
   "outputs": [
    {
     "name": "stdout",
     "output_type": "stream",
     "text": [
      "a: -8\n",
      "b: 6\n",
      "c: 1\n",
      "-8 1 6\n"
     ]
    }
   ],
   "source": [
    "def sort_num(a,b,c):\n",
    "    if a > b:\n",
    "        a, b = b, a\n",
    "    if a > c:\n",
    "        a, c = c, a\n",
    "    if b > c:\n",
    "        b, c = c, b\n",
    "    print (a, b, c)\n",
    "    \n",
    "a = int(input('a: '))\n",
    "b = int(input('b: '))\n",
    "c = int(input('c: '))\n",
    "sort_num(a,b,c)\n"
   ]
  }
 ],
 "metadata": {
  "kernelspec": {
   "display_name": "Python 3 (ipykernel)",
   "language": "python",
   "name": "python3"
  },
  "language_info": {
   "codemirror_mode": {
    "name": "ipython",
    "version": 3
   },
   "file_extension": ".py",
   "mimetype": "text/x-python",
   "name": "python",
   "nbconvert_exporter": "python",
   "pygments_lexer": "ipython3",
   "version": "3.10.4"
  }
 },
 "nbformat": 4,
 "nbformat_minor": 5
}
